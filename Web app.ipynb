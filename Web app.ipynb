{
 "cells": [
  {
   "cell_type": "code",
   "execution_count": 1,
   "id": "c55c3ffd",
   "metadata": {},
   "outputs": [
    {
     "ename": "ModuleNotFoundError",
     "evalue": "No module named 'dash'",
     "output_type": "error",
     "traceback": [
      "\u001b[1;31m---------------------------------------------------------------------------\u001b[0m",
      "\u001b[1;31mModuleNotFoundError\u001b[0m                       Traceback (most recent call last)",
      "Cell \u001b[1;32mIn[1], line 2\u001b[0m\n\u001b[0;32m      1\u001b[0m \u001b[38;5;66;03m# Import necessary libraries\u001b[39;00m\n\u001b[1;32m----> 2\u001b[0m \u001b[38;5;28;01mimport\u001b[39;00m \u001b[38;5;21;01mdash\u001b[39;00m\n\u001b[0;32m      3\u001b[0m \u001b[38;5;28;01mimport\u001b[39;00m \u001b[38;5;21;01mdash_core_components\u001b[39;00m \u001b[38;5;28;01mas\u001b[39;00m \u001b[38;5;21;01mdcc\u001b[39;00m\n\u001b[0;32m      4\u001b[0m \u001b[38;5;28;01mimport\u001b[39;00m \u001b[38;5;21;01mdash_html_components\u001b[39;00m \u001b[38;5;28;01mas\u001b[39;00m \u001b[38;5;21;01mhtml\u001b[39;00m\n",
      "\u001b[1;31mModuleNotFoundError\u001b[0m: No module named 'dash'"
     ]
    }
   ],
   "source": [
    "# Import necessary libraries\n",
    "import dash\n",
    "import dash_core_components as dcc\n",
    "import dash_html_components as html\n",
    "from dash.dependencies import Input, Output\n",
    "import pandas as pd\n",
    "import numpy as np\n",
    "from sklearn.preprocessing import StandardScaler\n",
    "import pickle"
   ]
  },
  {
   "cell_type": "code",
   "execution_count": null,
   "id": "e77d1e60",
   "metadata": {},
   "outputs": [],
   "source": [
    "data = pd.read_csv(\"data_weather_encoded.csv\")"
   ]
  },
  {
   "cell_type": "code",
   "execution_count": 2,
   "id": "ac4596ef",
   "metadata": {},
   "outputs": [
    {
     "ename": "NameError",
     "evalue": "name 'data' is not defined",
     "output_type": "error",
     "traceback": [
      "\u001b[1;31m---------------------------------------------------------------------------\u001b[0m",
      "\u001b[1;31mNameError\u001b[0m                                 Traceback (most recent call last)",
      "Cell \u001b[1;32mIn[2], line 1\u001b[0m\n\u001b[1;32m----> 1\u001b[0m \u001b[43mdata\u001b[49m\n",
      "\u001b[1;31mNameError\u001b[0m: name 'data' is not defined"
     ]
    }
   ],
   "source": [
    "data"
   ]
  },
  {
   "cell_type": "code",
   "execution_count": 11,
   "id": "808b6afe",
   "metadata": {},
   "outputs": [],
   "source": [
    "import dash\n",
    "import dash_core_components as dcc\n",
    "import dash_html_components as html\n",
    "from dash.dependencies import Input, Output\n",
    "import pickle\n",
    "import pandas as pd\n",
    "import plotly.graph_objs as go\n",
    "# Create a basic Dash app\n",
    "app = dash.Dash(__name__)\n",
    "\n",
    "# Define app layout\n",
    "app.layout = html.Div([\n",
    "    html.H1(\"London Temperature Prediction\"),\n",
    "    \n",
    "    html.Label(\"Select number of days for prediction:\"),\n",
    "    dcc.Dropdown(\n",
    "        id='days-dropdown',\n",
    "        options=[\n",
    "            {'label': '1 day', 'value': 1},\n",
    "            {'label': '3 days', 'value': 3},\n",
    "            {'label': '7 days', 'value': 7},\n",
    "            {'label': '14 days', 'value': 14},\n",
    "        ],\n",
    "        value=1\n",
    "    ),\n",
    "    \n",
    "    html.Label(\"Select prediction model:\"),\n",
    "    dcc.Dropdown(\n",
    "        id='model-dropdown',\n",
    "        options=[\n",
    "            {'label': 'ANN', 'value': 'ann_future_predictions.pkl'},\n",
    "            {'label': 'Random Forest', 'value': 'random_forecast_predictions.pkl'},\n",
    "            {'label': 'ML-RBFNN', 'value': 'ml_rbfnn_future_predictions.pkl'},\n",
    "            {'label': 'Residual BiLSTM', 'value': 'lstm_future_predictions.pkl'},\n",
    "            {'label': 'SVR', 'value': 'svr_predictions.pkl'},\n",
    "        ],\n",
    "        value='ann_future_predictions.pkl'\n",
    "    ),\n",
    "    \n",
    "    html.Button('Predict', id='predict-button', n_clicks=0),\n",
    "    \n",
    "    html.Div(id='output-div')\n",
    "])\n",
    "\n",
    "\n",
    "@app.callback(\n",
    "    Output('output-div', 'children'),\n",
    "    [Input('predict-button', 'n_clicks')],\n",
    "    [dash.dependencies.State('days-dropdown', 'value'),\n",
    "     dash.dependencies.State('model-dropdown', 'value')]\n",
    ")\n",
    "def predict_temperature(n_clicks, days, model_filename):\n",
    "    # Set start date to 2021-01-01\n",
    "    start_date = \"2021-01-01\"\n",
    "    \n",
    "    # Load model predictions\n",
    "    with open(model_filename, 'rb') as f:\n",
    "        predictions = pickle.load(f)\n",
    "    \n",
    "    # Handle the specific structures of the three models\n",
    "    if model_filename == \"ann_future_predictions.pkl\" or model_filename == \"svr_predictions.pkl\" or model_filename==\"random_forecast_predictions.pkl\":\n",
    "        pred_values_14 = predictions\n",
    "    elif model_filename == \"ml_rbfnn_future_predictions.pkl\":\n",
    "        pred_values_14 = predictions['14_days']\n",
    "    else:\n",
    "        pred_values_14 = predictions[14]\n",
    "        if isinstance(pred_values_14, (list, tuple, np.ndarray)) and len(pred_values_14) == 1:\n",
    "            pred_values_14 = pred_values_14[0]\n",
    "    \n",
    "    # Extract the required prediction based on selected days\n",
    "    pred_values = pred_values_14[:days]\n",
    "    \n",
    "         # Convert start date to datetime and generate date list for prediction\n",
    "    start_dt = pd.to_datetime(start_date)\n",
    "    date_list = [(start_dt + pd.Timedelta(days=i)).strftime('%Y-%m-%d') for i in range(0, days)]\n",
    "    \n",
    "    # Create bar plot\n",
    "    bar_plot = dcc.Graph(\n",
    "        figure={\n",
    "            'data': [\n",
    "                go.Bar(\n",
    "                    x=pred_values,\n",
    "                    y=date_list,\n",
    "                    orientation='h',\n",
    "                    marker={\n",
    "                        'color': pred_values,\n",
    "                        'colorscale': [[0, 'cyan'], [1, 'yellow']]\n",
    "                    }\n",
    "                )\n",
    "            ],\n",
    "            'layout': {\n",
    "                'title': 'Temperature Predictions',\n",
    "                'xaxis': {\n",
    "                    'title': 'Temperature (°C)',\n",
    "                    'zeroline': True,\n",
    "                    'zerolinecolor': 'black',\n",
    "                    'zerolinewidth': 2\n",
    "                },\n",
    "                'yaxis': {\n",
    "                    'title': 'Date',\n",
    "                    'tickformat': '%Y-%m-%d',  # Ensure only date is displayed\n",
    "                    'tickvals': date_list  # Explicitly specify which dates to show\n",
    "                }\n",
    "            }\n",
    "        }\n",
    "    )\n",
    "    \n",
    "    return bar_plot\n",
    "\n",
    "\n"
   ]
  },
  {
   "cell_type": "code",
   "execution_count": 12,
   "id": "1a105dd1",
   "metadata": {
    "scrolled": false
   },
   "outputs": [
    {
     "data": {
      "text/html": [
       "\n",
       "        <iframe\n",
       "            width=\"100%\"\n",
       "            height=\"650\"\n",
       "            src=\"http://127.0.0.1:8050/\"\n",
       "            frameborder=\"0\"\n",
       "            allowfullscreen\n",
       "            \n",
       "        ></iframe>\n",
       "        "
      ],
      "text/plain": [
       "<IPython.lib.display.IFrame at 0x1f527a1d6d0>"
      ]
     },
     "metadata": {},
     "output_type": "display_data"
    }
   ],
   "source": [
    "if __name__ == '__main__':\n",
    "    app.run_server(debug=True)\n"
   ]
  },
  {
   "cell_type": "code",
   "execution_count": null,
   "id": "9d110d3f",
   "metadata": {},
   "outputs": [],
   "source": []
  }
 ],
 "metadata": {
  "kernelspec": {
   "display_name": "Python 3 (ipykernel)",
   "language": "python",
   "name": "python3"
  },
  "language_info": {
   "codemirror_mode": {
    "name": "ipython",
    "version": 3
   },
   "file_extension": ".py",
   "mimetype": "text/x-python",
   "name": "python",
   "nbconvert_exporter": "python",
   "pygments_lexer": "ipython3",
   "version": "3.9.16"
  }
 },
 "nbformat": 4,
 "nbformat_minor": 5
}
